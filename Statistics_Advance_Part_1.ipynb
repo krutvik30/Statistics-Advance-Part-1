{
  "nbformat": 4,
  "nbformat_minor": 0,
  "metadata": {
    "colab": {
      "provenance": []
    },
    "kernelspec": {
      "name": "python3",
      "display_name": "Python 3"
    },
    "language_info": {
      "name": "python"
    }
  },
  "cells": [
    {
      "cell_type": "markdown",
      "source": [
        "1.What is a random variable in probability theory?\n"
      ],
      "metadata": {
        "id": "jQO-TMA5ygVK"
      }
    },
    {
      "cell_type": "markdown",
      "source": [
        "=> A random variable is a variable that takes on numerical values determined by the outcome of a random phenomenon."
      ],
      "metadata": {
        "id": "C7-4l6qYymbM"
      }
    },
    {
      "cell_type": "markdown",
      "source": [
        "2. What are the types of random variables?\n"
      ],
      "metadata": {
        "id": "otd6EGq9yozM"
      }
    },
    {
      "cell_type": "markdown",
      "source": [
        "=> The types are discrete random variables and continuous random variables.\n",
        "\n"
      ],
      "metadata": {
        "id": "r8aVHNj2yrDx"
      }
    },
    {
      "cell_type": "markdown",
      "source": [
        "3. What is the difference between discrete and continuous distributions?\n"
      ],
      "metadata": {
        "id": "p4-tLmezysxe"
      }
    },
    {
      "cell_type": "markdown",
      "source": [
        "=> Discrete distributions have countable outcomes, while continuous distributions have outcomes over an interval.\n",
        "\n"
      ],
      "metadata": {
        "id": "Pc0StlJtyuTi"
      }
    },
    {
      "cell_type": "markdown",
      "source": [
        "4. What are probability distribution functions (PDF)?\n"
      ],
      "metadata": {
        "id": "7vLgWgDiywXy"
      }
    },
    {
      "cell_type": "markdown",
      "source": [
        "=> A PDF gives the probability that a continuous random variable falls within a particular range of values.\n",
        "\n"
      ],
      "metadata": {
        "id": "02S1iY5fyx6G"
      }
    },
    {
      "cell_type": "markdown",
      "source": [
        "5. How do cumulative distribution functions (CDF) differ from probability distribution functions (PDF)?\n"
      ],
      "metadata": {
        "id": "DV_NGtobyy-o"
      }
    },
    {
      "cell_type": "markdown",
      "source": [
        "=> A CDF gives the probability that a variable takes on a value less than or equal to a certain value, while a PDF gives the relative likelihood for a variable to take on a specific value.\n",
        "\n"
      ],
      "metadata": {
        "id": "-apMtXWGy1BS"
      }
    },
    {
      "cell_type": "markdown",
      "source": [
        "6. What is a discrete uniform distribution?\n"
      ],
      "metadata": {
        "id": "vxyztyNhy4iE"
      }
    },
    {
      "cell_type": "markdown",
      "source": [
        "=> It is a distribution where each of a finite number of outcomes is equally likely.\n",
        "\n"
      ],
      "metadata": {
        "id": "bsUGLc8Fy7XI"
      }
    },
    {
      "cell_type": "markdown",
      "source": [
        "7. What are the key properties of a Bernoulli distribution?\n"
      ],
      "metadata": {
        "id": "F6Z2APvqy-VX"
      }
    },
    {
      "cell_type": "markdown",
      "source": [
        "=> It has two outcomes (success and failure), with a single trial and probability p of success."
      ],
      "metadata": {
        "id": "Yc1BaUfry-pH"
      }
    },
    {
      "cell_type": "markdown",
      "source": [
        "8. What is the binomial distribution, and how is it used in probability?\n"
      ],
      "metadata": {
        "id": "skhjpHnbzLED"
      }
    },
    {
      "cell_type": "markdown",
      "source": [
        "=> The binomial distribution models the number of successes in a fixed number of independent Bernoulli trials.\n",
        "\n"
      ],
      "metadata": {
        "id": "eAyJ7CvozNNO"
      }
    },
    {
      "cell_type": "markdown",
      "source": [
        "9. What is the Poisson distribution and where is it applied?\n"
      ],
      "metadata": {
        "id": "jbQG91k4zOwK"
      }
    },
    {
      "cell_type": "markdown",
      "source": [
        "=> The Poisson distribution models the number of events occurring in a fixed interval of time or space under a constant average rate.\n",
        "\n"
      ],
      "metadata": {
        "id": "v7xdQ8OKzQJH"
      }
    },
    {
      "cell_type": "markdown",
      "source": [
        "10. What is a continuous uniform distribution?\n"
      ],
      "metadata": {
        "id": "-EQLQRpwzSLb"
      }
    },
    {
      "cell_type": "markdown",
      "source": [
        "=> It is a distribution where all outcomes in a continuous range are equally likely.\n",
        "\n"
      ],
      "metadata": {
        "id": "mw0Yo2LfzUw8"
      }
    },
    {
      "cell_type": "markdown",
      "source": [
        "11. What are the characteristics of a normal distribution?\n"
      ],
      "metadata": {
        "id": "KDP_iVaSzWgA"
      }
    },
    {
      "cell_type": "markdown",
      "source": [
        "=> It is symmetric, bell-shaped, and defined by its mean and standard deviation.\n",
        "\n"
      ],
      "metadata": {
        "id": "AbO8jqZ9zX6R"
      }
    },
    {
      "cell_type": "markdown",
      "source": [
        "12. What is the standard normal distribution, and why is it important?\n"
      ],
      "metadata": {
        "id": "I_hoNBUqzZHC"
      }
    },
    {
      "cell_type": "markdown",
      "source": [
        "=> It is a normal distribution with a mean of 0 and a standard deviation of 1, used for calculating probabilities and Z-scores.\n",
        "\n"
      ],
      "metadata": {
        "id": "r3WEbpgRzbWa"
      }
    },
    {
      "cell_type": "markdown",
      "source": [
        "13. What is the Central Limit Theorem (CLT), and why is it critical in statistics?\n"
      ],
      "metadata": {
        "id": "oUNrKgiZzcPP"
      }
    },
    {
      "cell_type": "markdown",
      "source": [
        "=> The CLT states that the sampling distribution of the sample mean approaches a normal distribution as the sample size increases, regardless of the population’s distribution."
      ],
      "metadata": {
        "id": "_DUVc7xszfLK"
      }
    },
    {
      "cell_type": "markdown",
      "source": [
        "14. How does the Central Limit Theorem relate to the normal distribution?\n"
      ],
      "metadata": {
        "id": "tsL0bwoSziIw"
      }
    },
    {
      "cell_type": "markdown",
      "source": [
        "=> It explains why the normal distribution can be used to approximate the distribution of sample means.\n",
        "\n"
      ],
      "metadata": {
        "id": "tMihVwVOzjah"
      }
    },
    {
      "cell_type": "markdown",
      "source": [
        "15. What is the application of Z statistics in hypothesis testing?\n"
      ],
      "metadata": {
        "id": "f5k7IPh7zk-j"
      }
    },
    {
      "cell_type": "markdown",
      "source": [
        "=> Z statistics are used to determine how far a sample statistic is from the population parameter in terms of standard errors.\n",
        "\n"
      ],
      "metadata": {
        "id": "pBAgZYPszmOH"
      }
    },
    {
      "cell_type": "markdown",
      "source": [
        "16. How do you calculate a Z-score, and what does it represent?\n"
      ],
      "metadata": {
        "id": "Zdes7c3Vznx6"
      }
    },
    {
      "cell_type": "markdown",
      "source": [
        "=>  Z=(X−μ)/σ where X is the value, 𝜇 μ is the mean, and σ is the standard deviation. It represents how many standard deviations a value is from the mean."
      ],
      "metadata": {
        "id": "ygVIKkxDzrmC"
      }
    },
    {
      "cell_type": "markdown",
      "source": [
        "17. What are point estimates and interval estimates in statistics?\n"
      ],
      "metadata": {
        "id": "dw5jiRS30m8O"
      }
    },
    {
      "cell_type": "markdown",
      "source": [
        "=> A point estimate gives a single value as an estimate of a parameter, while an interval estimate gives a range of values.\n",
        "\n"
      ],
      "metadata": {
        "id": "PXOHWjDu0pJI"
      }
    },
    {
      "cell_type": "markdown",
      "source": [
        "18. What is the significance of confidence intervals in statistical analysis?\n"
      ],
      "metadata": {
        "id": "4s3QIeqA0rmc"
      }
    },
    {
      "cell_type": "markdown",
      "source": [
        "=> Confidence intervals indicate the range within which a population parameter is expected to lie with a certain level of confidence.\n",
        "\n"
      ],
      "metadata": {
        "id": "AruvaFAG0t6G"
      }
    },
    {
      "cell_type": "markdown",
      "source": [
        "19. What is the relationship between a Z-score and a confidence interval?\n"
      ],
      "metadata": {
        "id": "R9vjOLlB0vkV"
      }
    },
    {
      "cell_type": "markdown",
      "source": [
        "=> The Z-score determines the margin of error used to construct a confidence interval.\n",
        "\n"
      ],
      "metadata": {
        "id": "NmWWmbMC0xPO"
      }
    },
    {
      "cell_type": "markdown",
      "source": [
        "20. How are Z-scores used to compare different distributions?\n"
      ],
      "metadata": {
        "id": "nWEgiczK0ykY"
      }
    },
    {
      "cell_type": "markdown",
      "source": [
        "=> Z-scores standardize values, allowing comparison across distributions with different means and standard deviations.\n",
        "\n"
      ],
      "metadata": {
        "id": "NhGzaXrI00KL"
      }
    },
    {
      "cell_type": "markdown",
      "source": [
        "21. What are the assumptions for applying the Central Limit Theorem?\n"
      ],
      "metadata": {
        "id": "nquMre0_01yH"
      }
    },
    {
      "cell_type": "markdown",
      "source": [
        "=> The sample size is sufficiently large, observations are independent, and the population has a finite variance.\n",
        "\n"
      ],
      "metadata": {
        "id": "o_CN4U0K03aO"
      }
    },
    {
      "cell_type": "markdown",
      "source": [
        "22. What is the concept of expected value in a probability distribution?\n"
      ],
      "metadata": {
        "id": "i90ijdGf047j"
      }
    },
    {
      "cell_type": "markdown",
      "source": [
        "=> The expected value is the long-run average value of repetitions of the experiment it represents.\n",
        "\n"
      ],
      "metadata": {
        "id": "sX-5Qo4S06q1"
      }
    },
    {
      "cell_type": "markdown",
      "source": [
        "23. How does a probability distribution relate to the expected outcome of a random variable?\n"
      ],
      "metadata": {
        "id": "mEr5lKiK077-"
      }
    },
    {
      "cell_type": "markdown",
      "source": [
        "=> The probability distribution assigns probabilities to each possible outcome, and the expected value is the weighted average of those outcomes."
      ],
      "metadata": {
        "id": "fchzPICm09aH"
      }
    }
  ]
}